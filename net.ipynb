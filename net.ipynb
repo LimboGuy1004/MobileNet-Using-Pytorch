{
  "nbformat": 4,
  "nbformat_minor": 0,
  "metadata": {
    "colab": {
      "name": "deep learning assignment 3_task1.ipynb",
      "provenance": [],
      "collapsed_sections": []
    },
    "kernelspec": {
      "name": "python3",
      "display_name": "Python 3"
    },
    "language_info": {
      "name": "python"
    },
    "accelerator": "GPU"
  },
  "cells": [
    {
      "cell_type": "code",
      "execution_count": null,
      "metadata": {
        "colab": {
          "base_uri": "https://localhost:8080/"
        },
        "id": "TtOgnQOqyi5F",
        "outputId": "e4a50cb1-70aa-4bfa-f270-8c14990d180d"
      },
      "outputs": [
        {
          "output_type": "stream",
          "name": "stdout",
          "text": [
            "Warning: Your Kaggle API key is readable by other users on this system! To fix this, you can run 'chmod 600 /root/.kaggle/kaggle.json'\n",
            "Downloading mnist-in-csv.zip to /content\n",
            " 98% 15.0M/15.2M [00:00<00:00, 50.7MB/s]\n",
            "100% 15.2M/15.2M [00:00<00:00, 44.7MB/s]\n",
            "Archive:  mnist-in-csv.zip\n",
            "  inflating: mnist/mnist_test.csv    \n",
            "  inflating: mnist/mnist_train.csv   \n"
          ]
        }
      ],
      "source": [
        "! mkdir ~/.kaggle\n",
        "! cp kaggle.json ~/.kaggle/\n",
        "! chmod 600 kaggle.json\n",
        "!kaggle datasets download -d oddrationale/mnist-in-csv\n",
        "! unzip mnist-in-csv.zip -d mnist"
      ]
    },
    {
      "cell_type": "code",
      "source": [
        "import torch\n",
        "import torchvision\n",
        "from torchvision import transforms, datasets\n",
        "import torch.nn as nn\n",
        "import torch.optim as opt\n",
        "import torch.nn.functional as af\n",
        "import os\n",
        "import numpy as np\n",
        "import pandas as pd\n",
        "import cv2\n",
        "from torch.utils.data import Dataset\n",
        "import PIL\n",
        "from tqdm import tqdm\n",
        "from torch.optim.lr_scheduler import ReduceLROnPlateau\n",
        "from sklearn.manifold import TSNE\n",
        "from google.colab import files\n",
        "from matplotlib import pyplot as plt\n",
        "import math"
      ],
      "metadata": {
        "id": "2OkrlmS91JVZ"
      },
      "execution_count": null,
      "outputs": []
    },
    {
      "cell_type": "code",
      "source": [
        "train_ = pd.read_csv('/content/mnist/mnist_train.csv')\n",
        "\n",
        "def split_train(df, val_per):\n",
        "  val_size = int(df.shape[0]*val_per)\n",
        "\n",
        "  train = df.iloc[:df.shape[0]-val_size,:]\n",
        "  val = df.iloc[df.shape[0]-val_size:,:]\n",
        "  train.to_csv('train.csv',index=False)\n",
        "  val.to_csv('val.csv',index=False)\n",
        "\n",
        "split_train(train_,0.15)"
      ],
      "metadata": {
        "id": "snzH1Oj2zsCg"
      },
      "execution_count": null,
      "outputs": []
    },
    {
      "cell_type": "code",
      "source": [
        "print(pd.read_csv('train.csv').describe())\n",
        "print(pd.read_csv('val.csv').describe())\n"
      ],
      "metadata": {
        "id": "Lev_loUT18R2"
      },
      "execution_count": null,
      "outputs": []
    },
    {
      "cell_type": "code",
      "source": [
        "class ConvDw(nn.Module):\n",
        "  def __init__(self, input_dim, output_dim,stride):\n",
        "    super(ConvDw,self).__init__()\n",
        "    self.convdw = nn.Conv2d(input_dim,input_dim,3,stride,1,groups=input_dim)\n",
        "    self.bn_dw = nn.BatchNorm2d(input_dim)\n",
        "    self.relu_dw = nn.ReLU()\n",
        "    self.convpw = nn.Conv2d(input_dim, output_dim, 1, 1,0)\n",
        "    self.bn_pw = nn.BatchNorm2d(output_dim)\n",
        "    self.relu_pw = nn.ReLU()\n",
        "\n",
        "\n",
        "  def forward(self, x):\n",
        "    x = self.convdw(x)\n",
        "    x = self.bn_dw(x)\n",
        "    x = self.relu_dw(x)\n",
        "    x = self.convpw(x)\n",
        "    x = self.bn_pw(x)\n",
        "    x = self.relu_pw(x)\n",
        "    return x\n"
      ],
      "metadata": {
        "id": "AztVmIk52Qk8"
      },
      "execution_count": null,
      "outputs": []
    },
    {
      "cell_type": "code",
      "source": [
        "from torchvision.transforms.transforms import Resize\n",
        "class CustomDataloader(Dataset):\n",
        "  def __init__(self, csv_file, img_dir, transform=None):\n",
        "    self.imgs_labels = pd.read_csv(csv_file)\n",
        "    self.img_dir = img_dir\n",
        "    self.transform = transform\n",
        "\n",
        "  def __len__(self):\n",
        "    return len(self.imgs_labels)\n",
        "\n",
        "  def __getitem__(self,idx):\n",
        "\n",
        "    img = self.imgs_labels.iloc[idx,1:]\n",
        "    img = img.to_numpy().flatten().reshape(28,28)\n",
        "    img = PIL.Image.fromarray((img * 255).astype(np.uint8))\n",
        "    \n",
        "    labels = torch.tensor(self.imgs_labels.iloc[idx,0])\n",
        "\n",
        "    if self.transform:\n",
        "      img = self.transform(img)\n",
        "\n",
        "    return (img,labels)\n",
        "\n",
        "device = torch.device('cuda' if torch.cuda.is_available() else 'cpu')\n",
        "\n",
        "transform = transforms.Compose([\n",
        "                              transforms.Grayscale(),\n",
        "                              transforms.Resize((28,28)),\n",
        "                              transforms.ToTensor(),\n",
        "                              transforms.Normalize(0,0.5)])\n",
        "\n"
      ],
      "metadata": {
        "id": "5sqw8jef3dtZ"
      },
      "execution_count": null,
      "outputs": []
    },
    {
      "cell_type": "code",
      "source": [
        "train_path = \"train.csv\"\n",
        "test_path = \"/content/mnist/mnist_test.csv\"\n",
        "val_path = \"val.csv\"\n",
        "batch_size = 256\n",
        "train_dataset = CustomDataloader(train_path, \"./\",transform)\n",
        "train_loader = torch.utils.data.DataLoader(train_dataset, batch_size=batch_size, shuffle=True)\n",
        "\n",
        "test_dataset = CustomDataloader(test_path, \"./\",transform)\n",
        "test_loader = torch.utils.data.DataLoader(test_dataset, batch_size=batch_size, shuffle=True)\n",
        "\n",
        "val_dataset = CustomDataloader(val_path, \"./\",transform)\n",
        "val_loader = torch.utils.data.DataLoader(val_dataset, batch_size=batch_size, shuffle=True)\n",
        "\n"
      ],
      "metadata": {
        "id": "RiqhgOqB4eaM"
      },
      "execution_count": null,
      "outputs": []
    },
    {
      "cell_type": "code",
      "source": [
        "\n",
        "\n",
        "\n",
        "\n",
        "class CNN_Mobile_Net(nn.Module):\n",
        "\n",
        "  def __init__(self, conv_block_count, mobilenet_block_count,input_dim, num_classes):\n",
        "    super(CNN_Mobile_Net,self).__init__()\n",
        "    conv_channels = [2**(i+4) for i in range(conv_block_count)]\n",
        "    conv_channels.insert(0,input_dim[0])\n",
        "    print(conv_channels)\n",
        "    self.conv = nn.ModuleList([nn.Conv2d(in_ch, out_ch, 3,1,1) for in_ch, out_ch in zip(conv_channels,conv_channels[1:])])\n",
        "    # self.conv = nn.Conv2d(input_dim[0], 32, 3,1,1)\n",
        "    channels = [int(2**(i+math.log2(conv_channels[-1]))) for i in range(1,mobilenet_block_count)]\n",
        "    \n",
        "    channels.insert(0, conv_channels[-1])\n",
        "    print(channels)\n",
        "    self.mob = nn.ModuleList([ConvDw(input_dim=in_ch,output_dim=out_ch,stride=1) for in_ch,out_ch in zip(channels,channels[1:])])\n",
        "\n",
        "    self.avgpooling = nn.AdaptiveAvgPool2d((1,1))\n",
        "\n",
        "    self.fc = nn.Linear(self._get_conv_output(input_dim),num_classes)\n",
        "\n",
        "  def convolution(self,x):\n",
        "    # x_convs = self.conv[0](Variable(torch.from_numpy(X).type(torch.FloatTensor)))\n",
        "    if len(self.conv) >= 1:\n",
        "      for conv in self.conv:\n",
        "        x = conv(x)\n",
        "\n",
        "    if len(self.mob) >= 1:\n",
        "      for mobconv in self.mob:\n",
        "          x = mobconv(x)\n",
        "    return x\n",
        "\n",
        "  def forward(self,x):\n",
        "    x = self.convolution(x)\n",
        "    x = self.avgpooling(x)\n",
        "    x = x.view(x.size(0),-1)\n",
        "    x = self.fc(x)\n",
        "    return x\n",
        "\n",
        "  def _get_conv_output(self, shape):\n",
        "    batch_size = 1\n",
        "    input = torch.autograd.Variable(torch.rand(batch_size, *shape))\n",
        "    output_feat = self.avgpooling(self.convolution(input))\n",
        "\n",
        "    n_size = output_feat.data.view(batch_size, -1).size(1)\n",
        "    return n_size\n",
        "\n",
        "  def save_model(self, path):\n",
        "    torch.save(self.state_dict(),path)\n",
        "\n",
        "  def load_model(self, path):\n",
        "    self.load_state_dict(torch.load(path))\n",
        "    \n",
        "  def train(self, train_loader, val_loader, optimizer, criterion, epochs):\n",
        "    \n",
        "    train_loss = []\n",
        "    val_loss=[]\n",
        "    train_accuracy=[]\n",
        "    val_accuracy=[]\n",
        "\n",
        "    for epoch in range(epochs):\n",
        "\n",
        "      t_loader = tqdm(train_loader)\n",
        "\n",
        "      epoch_loss_train=0\n",
        "      batch_acc_train = 0\n",
        "      correct_train = 0\n",
        "      l = 0\n",
        "      for batch, (imgs,labels) in enumerate(t_loader):\n",
        "        imgs = imgs.to(device=device)\n",
        "\n",
        "        labels = labels.to(device=device)\n",
        "\n",
        "        pred = self.forward(imgs)\n",
        "        pred = torch.squeeze(pred)\n",
        "        loss = criterion(pred,labels)\n",
        "        optimizer.zero_grad()\n",
        "        loss.backward()\n",
        "        optimizer.step()\n",
        "\n",
        "        # loss and accuracy\n",
        "\n",
        "        epoch_loss_train+=loss.item()\n",
        "        # print(pred.argmax(1))\n",
        "        # print(labels)\n",
        "        # print()\n",
        "        # break\n",
        "        correct_train += ((pred.detach().argmax(1).to(device='cpu').numpy() == labels.to(device='cpu').numpy()).sum())\n",
        "        t_loader.set_description(f\"Training {epoch+1}/{epochs}\")\n",
        "        t_loader.set_postfix(loss=loss.item())\n",
        "        l+=labels.size(0)\n",
        "\n",
        "\n",
        "      train_acc = correct_train/l\n",
        "      train_los = epoch_loss_train/l\n",
        "      print(f\"\\n acc = {train_acc}, loss = {train_los}\")\n",
        "      train_loss.append(train_los)\n",
        "      train_accuracy.append(train_acc)\n",
        "\n",
        "      \n",
        "      with torch.no_grad():\n",
        "        v_loader = tqdm(val_loader)\n",
        "\n",
        "        epoch_loss_val=0\n",
        "        batch_acc_val = 0\n",
        "        correct_val = 0\n",
        "        l = 0\n",
        "        for batch, (imgs,labels) in enumerate(v_loader):\n",
        "          imgs = imgs.to(device=device)\n",
        "          labels = labels.to(device=device)\n",
        "          pred = self.forward(imgs)\n",
        "          pred = torch.squeeze(pred)\n",
        "          loss = criterion(pred,labels)\n",
        "          # loss and accuracy\n",
        "          epoch_loss_val+=loss.item()\n",
        "          correct_val += ((pred.detach().argmax(1).to(device='cpu').numpy() == labels.to(device='cpu').numpy()).sum())\n",
        "\n",
        "          # correct_val += ((pred.argmax(1) == labels.to(device='cpu').numpy()).sum())\n",
        "          v_loader.set_description(f\"Validation {epoch+1}/{epochs}\")\n",
        "          v_loader.set_postfix(loss=loss.item())\n",
        "          l+=labels.size(0)\n",
        "\n",
        "\n",
        "        val_acc = correct_val/l\n",
        "        val_los = epoch_loss_val/l\n",
        "        print(f\"\\n acc = {val_acc}, loss = {val_los}\")\n",
        "        val_loss.append(val_los)\n",
        "        val_accuracy.append(val_acc)\n",
        "\n",
        "    return self,train_loss,val_loss,train_accuracy,val_accuracy\n",
        "\n",
        "\n"
      ],
      "metadata": {
        "id": "2oYdZybT6Y2N"
      },
      "execution_count": null,
      "outputs": []
    },
    {
      "cell_type": "code",
      "source": [
        "cnn = CNN_Mobile_Net(2,3,(1,28,28),10)\n",
        "cnn.to(device)\n",
        "\n",
        "learning_rate = 0.1\n",
        "epochs = 30\n",
        "criterion = nn.CrossEntropyLoss()\n",
        "\n",
        "optimizer = opt.Adam(cnn.parameters(),lr=learning_rate,amsgrad=True)\n",
        "scheduler = ReduceLROnPlateau(optimizer, 'min', patience = 1)\n",
        "\n",
        "net,train_loss,val_loss,train_accuracy,val_accuracy = cnn.train(train_loader,\n",
        "                                                                val_loader,optimizer,\n",
        "                                                                criterion,epochs=epochs)\n"
      ],
      "metadata": {
        "colab": {
          "base_uri": "https://localhost:8080/"
        },
        "id": "Z9Oarvce_2Ee",
        "outputId": "fbb0df55-a72b-4e9d-94b9-918762988801"
      },
      "execution_count": null,
      "outputs": [
        {
          "output_type": "stream",
          "name": "stdout",
          "text": [
            "[1, 16, 32]\n",
            "[32, 64, 128]\n"
          ]
        },
        {
          "output_type": "stream",
          "name": "stderr",
          "text": [
            "Training 1/30: 100%|██████████| 200/200 [00:39<00:00,  5.07it/s, loss=0.458]\n"
          ]
        },
        {
          "output_type": "stream",
          "name": "stdout",
          "text": [
            "\n",
            " acc = 0.42376470588235293, loss = 0.006301361948836084\n"
          ]
        },
        {
          "output_type": "stream",
          "name": "stderr",
          "text": [
            "Validation 1/30: 100%|██████████| 36/36 [00:05<00:00,  6.10it/s, loss=0.595]\n"
          ]
        },
        {
          "output_type": "stream",
          "name": "stdout",
          "text": [
            "\n",
            " acc = 0.7787777777777778, loss = 0.002623243232568105\n"
          ]
        },
        {
          "output_type": "stream",
          "name": "stderr",
          "text": [
            "Training 2/30: 100%|██████████| 200/200 [00:40<00:00,  5.00it/s, loss=0.264]\n"
          ]
        },
        {
          "output_type": "stream",
          "name": "stdout",
          "text": [
            "\n",
            " acc = 0.8620196078431372, loss = 0.0017245029725280463\n"
          ]
        },
        {
          "output_type": "stream",
          "name": "stderr",
          "text": [
            "Validation 2/30: 100%|██████████| 36/36 [00:05<00:00,  6.06it/s, loss=0.248]\n"
          ]
        },
        {
          "output_type": "stream",
          "name": "stdout",
          "text": [
            "\n",
            " acc = 0.9052222222222223, loss = 0.0012338646252950032\n"
          ]
        },
        {
          "output_type": "stream",
          "name": "stderr",
          "text": [
            "Training 3/30: 100%|██████████| 200/200 [00:39<00:00,  5.12it/s, loss=0.361]\n"
          ]
        },
        {
          "output_type": "stream",
          "name": "stdout",
          "text": [
            "\n",
            " acc = 0.9105098039215687, loss = 0.001124390104822084\n"
          ]
        },
        {
          "output_type": "stream",
          "name": "stderr",
          "text": [
            "Validation 3/30: 100%|██████████| 36/36 [00:05<00:00,  6.09it/s, loss=0.225]\n"
          ]
        },
        {
          "output_type": "stream",
          "name": "stdout",
          "text": [
            "\n",
            " acc = 0.9275555555555556, loss = 0.0009213336457808812\n"
          ]
        },
        {
          "output_type": "stream",
          "name": "stderr",
          "text": [
            "Training 4/30: 100%|██████████| 200/200 [00:38<00:00,  5.16it/s, loss=0.143]\n"
          ]
        },
        {
          "output_type": "stream",
          "name": "stdout",
          "text": [
            "\n",
            " acc = 0.9253529411764706, loss = 0.0009267232555384729\n"
          ]
        },
        {
          "output_type": "stream",
          "name": "stderr",
          "text": [
            "Validation 4/30: 100%|██████████| 36/36 [00:05<00:00,  6.10it/s, loss=0.394]\n"
          ]
        },
        {
          "output_type": "stream",
          "name": "stdout",
          "text": [
            "\n",
            " acc = 0.9262222222222222, loss = 0.0009436109479930665\n"
          ]
        },
        {
          "output_type": "stream",
          "name": "stderr",
          "text": [
            "Training 5/30: 100%|██████████| 200/200 [00:38<00:00,  5.19it/s, loss=0.295]\n"
          ]
        },
        {
          "output_type": "stream",
          "name": "stdout",
          "text": [
            "\n",
            " acc = 0.936156862745098, loss = 0.0008016265300559062\n"
          ]
        },
        {
          "output_type": "stream",
          "name": "stderr",
          "text": [
            "Validation 5/30: 100%|██████████| 36/36 [00:05<00:00,  6.06it/s, loss=0.246]\n"
          ]
        },
        {
          "output_type": "stream",
          "name": "stdout",
          "text": [
            "\n",
            " acc = 0.9492222222222222, loss = 0.0006515483740303251\n"
          ]
        },
        {
          "output_type": "stream",
          "name": "stderr",
          "text": [
            "Training 6/30: 100%|██████████| 200/200 [00:38<00:00,  5.16it/s, loss=0.169]\n"
          ]
        },
        {
          "output_type": "stream",
          "name": "stdout",
          "text": [
            "\n",
            " acc = 0.9434313725490197, loss = 0.0007270200968373055\n"
          ]
        },
        {
          "output_type": "stream",
          "name": "stderr",
          "text": [
            "Validation 6/30: 100%|██████████| 36/36 [00:05<00:00,  6.10it/s, loss=0.0506]\n"
          ]
        },
        {
          "output_type": "stream",
          "name": "stdout",
          "text": [
            "\n",
            " acc = 0.954, loss = 0.0005927620083093643\n"
          ]
        },
        {
          "output_type": "stream",
          "name": "stderr",
          "text": [
            "Training 7/30: 100%|██████████| 200/200 [00:38<00:00,  5.20it/s, loss=0.119]\n"
          ]
        },
        {
          "output_type": "stream",
          "name": "stdout",
          "text": [
            "\n",
            " acc = 0.9418823529411765, loss = 0.0007324931326450087\n"
          ]
        },
        {
          "output_type": "stream",
          "name": "stderr",
          "text": [
            "Validation 7/30: 100%|██████████| 36/36 [00:05<00:00,  6.13it/s, loss=0.0773]\n"
          ]
        },
        {
          "output_type": "stream",
          "name": "stdout",
          "text": [
            "\n",
            " acc = 0.9592222222222222, loss = 0.0005559153126345741\n"
          ]
        },
        {
          "output_type": "stream",
          "name": "stderr",
          "text": [
            "Training 8/30: 100%|██████████| 200/200 [00:38<00:00,  5.21it/s, loss=0.224]\n"
          ]
        },
        {
          "output_type": "stream",
          "name": "stdout",
          "text": [
            "\n",
            " acc = 0.9482352941176471, loss = 0.0006507424013871772\n"
          ]
        },
        {
          "output_type": "stream",
          "name": "stderr",
          "text": [
            "Validation 8/30: 100%|██████████| 36/36 [00:05<00:00,  6.10it/s, loss=0.239]\n"
          ]
        },
        {
          "output_type": "stream",
          "name": "stdout",
          "text": [
            "\n",
            " acc = 0.954, loss = 0.000594737086031172\n"
          ]
        },
        {
          "output_type": "stream",
          "name": "stderr",
          "text": [
            "Training 9/30: 100%|██████████| 200/200 [00:38<00:00,  5.16it/s, loss=0.0624]\n"
          ]
        },
        {
          "output_type": "stream",
          "name": "stdout",
          "text": [
            "\n",
            " acc = 0.9518823529411765, loss = 0.0006189746250416718\n"
          ]
        },
        {
          "output_type": "stream",
          "name": "stderr",
          "text": [
            "Validation 9/30: 100%|██████████| 36/36 [00:05<00:00,  6.12it/s, loss=0.239]\n"
          ]
        },
        {
          "output_type": "stream",
          "name": "stdout",
          "text": [
            "\n",
            " acc = 0.9585555555555556, loss = 0.0005791156142950058\n"
          ]
        },
        {
          "output_type": "stream",
          "name": "stderr",
          "text": [
            "Training 10/30: 100%|██████████| 200/200 [00:39<00:00,  5.12it/s, loss=0.202]\n"
          ]
        },
        {
          "output_type": "stream",
          "name": "stdout",
          "text": [
            "\n",
            " acc = 0.9506862745098039, loss = 0.0006180390762347801\n"
          ]
        },
        {
          "output_type": "stream",
          "name": "stderr",
          "text": [
            "Validation 10/30: 100%|██████████| 36/36 [00:05<00:00,  6.37it/s, loss=0.139]\n"
          ]
        },
        {
          "output_type": "stream",
          "name": "stdout",
          "text": [
            "\n",
            " acc = 0.9548888888888889, loss = 0.0005891414880752564\n"
          ]
        },
        {
          "output_type": "stream",
          "name": "stderr",
          "text": [
            "Training 11/30: 100%|██████████| 200/200 [00:38<00:00,  5.20it/s, loss=0.218]\n"
          ]
        },
        {
          "output_type": "stream",
          "name": "stdout",
          "text": [
            "\n",
            " acc = 0.9552352941176471, loss = 0.0005712173831667386\n"
          ]
        },
        {
          "output_type": "stream",
          "name": "stderr",
          "text": [
            "Validation 11/30: 100%|██████████| 36/36 [00:05<00:00,  6.42it/s, loss=0.299]\n"
          ]
        },
        {
          "output_type": "stream",
          "name": "stdout",
          "text": [
            "\n",
            " acc = 0.9605555555555556, loss = 0.0005313927572634485\n"
          ]
        },
        {
          "output_type": "stream",
          "name": "stderr",
          "text": [
            "Training 12/30: 100%|██████████| 200/200 [00:38<00:00,  5.22it/s, loss=0.196]\n"
          ]
        },
        {
          "output_type": "stream",
          "name": "stdout",
          "text": [
            "\n",
            " acc = 0.958078431372549, loss = 0.0005322232545883048\n"
          ]
        },
        {
          "output_type": "stream",
          "name": "stderr",
          "text": [
            "Validation 12/30: 100%|██████████| 36/36 [00:05<00:00,  6.36it/s, loss=0.334]\n"
          ]
        },
        {
          "output_type": "stream",
          "name": "stdout",
          "text": [
            "\n",
            " acc = 0.9538888888888889, loss = 0.0006023506596684456\n"
          ]
        },
        {
          "output_type": "stream",
          "name": "stderr",
          "text": [
            "Training 13/30: 100%|██████████| 200/200 [00:38<00:00,  5.20it/s, loss=0.0502]\n"
          ]
        },
        {
          "output_type": "stream",
          "name": "stdout",
          "text": [
            "\n",
            " acc = 0.9572156862745098, loss = 0.0005400692215737175\n"
          ]
        },
        {
          "output_type": "stream",
          "name": "stderr",
          "text": [
            "Validation 13/30: 100%|██████████| 36/36 [00:05<00:00,  6.35it/s, loss=0.142]\n"
          ]
        },
        {
          "output_type": "stream",
          "name": "stdout",
          "text": [
            "\n",
            " acc = 0.9648888888888889, loss = 0.00047189065607057675\n"
          ]
        },
        {
          "output_type": "stream",
          "name": "stderr",
          "text": [
            "Training 14/30: 100%|██████████| 200/200 [00:38<00:00,  5.17it/s, loss=0.183]\n"
          ]
        },
        {
          "output_type": "stream",
          "name": "stdout",
          "text": [
            "\n",
            " acc = 0.961078431372549, loss = 0.0004997486140505941\n"
          ]
        },
        {
          "output_type": "stream",
          "name": "stderr",
          "text": [
            "Validation 14/30: 100%|██████████| 36/36 [00:05<00:00,  6.28it/s, loss=0.0893]\n"
          ]
        },
        {
          "output_type": "stream",
          "name": "stdout",
          "text": [
            "\n",
            " acc = 0.9671111111111111, loss = 0.00042731510351101557\n"
          ]
        },
        {
          "output_type": "stream",
          "name": "stderr",
          "text": [
            "Training 15/30: 100%|██████████| 200/200 [00:38<00:00,  5.19it/s, loss=0.119]\n"
          ]
        },
        {
          "output_type": "stream",
          "name": "stdout",
          "text": [
            "\n",
            " acc = 0.9607254901960784, loss = 0.0004939172919474396\n"
          ]
        },
        {
          "output_type": "stream",
          "name": "stderr",
          "text": [
            "Validation 15/30: 100%|██████████| 36/36 [00:05<00:00,  6.29it/s, loss=0.1]\n"
          ]
        },
        {
          "output_type": "stream",
          "name": "stdout",
          "text": [
            "\n",
            " acc = 0.9557777777777777, loss = 0.0005953870043158531\n"
          ]
        },
        {
          "output_type": "stream",
          "name": "stderr",
          "text": [
            "Training 16/30: 100%|██████████| 200/200 [00:38<00:00,  5.16it/s, loss=0.158]\n"
          ]
        },
        {
          "output_type": "stream",
          "name": "stdout",
          "text": [
            "\n",
            " acc = 0.9605882352941176, loss = 0.0004975873454674786\n"
          ]
        },
        {
          "output_type": "stream",
          "name": "stderr",
          "text": [
            "Validation 16/30: 100%|██████████| 36/36 [00:05<00:00,  6.25it/s, loss=0.0134]\n"
          ]
        },
        {
          "output_type": "stream",
          "name": "stdout",
          "text": [
            "\n",
            " acc = 0.9615555555555556, loss = 0.0005024585715598531\n"
          ]
        },
        {
          "output_type": "stream",
          "name": "stderr",
          "text": [
            "Training 17/30: 100%|██████████| 200/200 [00:38<00:00,  5.17it/s, loss=0.279]\n"
          ]
        },
        {
          "output_type": "stream",
          "name": "stdout",
          "text": [
            "\n",
            " acc = 0.9626078431372549, loss = 0.0004797100429879684\n"
          ]
        },
        {
          "output_type": "stream",
          "name": "stderr",
          "text": [
            "Validation 17/30: 100%|██████████| 36/36 [00:05<00:00,  6.35it/s, loss=0.168]\n"
          ]
        },
        {
          "output_type": "stream",
          "name": "stdout",
          "text": [
            "\n",
            " acc = 0.9666666666666667, loss = 0.0004516938312186135\n"
          ]
        },
        {
          "output_type": "stream",
          "name": "stderr",
          "text": [
            "Training 18/30: 100%|██████████| 200/200 [00:39<00:00,  5.08it/s, loss=0.327]\n"
          ]
        },
        {
          "output_type": "stream",
          "name": "stdout",
          "text": [
            "\n",
            " acc = 0.9645882352941176, loss = 0.0004482573711988973\n"
          ]
        },
        {
          "output_type": "stream",
          "name": "stderr",
          "text": [
            "Validation 18/30: 100%|██████████| 36/36 [00:05<00:00,  6.24it/s, loss=0.0444]\n"
          ]
        },
        {
          "output_type": "stream",
          "name": "stdout",
          "text": [
            "\n",
            " acc = 0.9638888888888889, loss = 0.0004762084194355541\n"
          ]
        },
        {
          "output_type": "stream",
          "name": "stderr",
          "text": [
            "Training 19/30: 100%|██████████| 200/200 [00:38<00:00,  5.20it/s, loss=0.0589]\n"
          ]
        },
        {
          "output_type": "stream",
          "name": "stdout",
          "text": [
            "\n",
            " acc = 0.9647058823529412, loss = 0.00044806953190880665\n"
          ]
        },
        {
          "output_type": "stream",
          "name": "stderr",
          "text": [
            "Validation 19/30: 100%|██████████| 36/36 [00:05<00:00,  6.23it/s, loss=0.0401]\n"
          ]
        },
        {
          "output_type": "stream",
          "name": "stdout",
          "text": [
            "\n",
            " acc = 0.9637777777777777, loss = 0.00045428165710634656\n"
          ]
        },
        {
          "output_type": "stream",
          "name": "stderr",
          "text": [
            "Training 20/30: 100%|██████████| 200/200 [00:38<00:00,  5.18it/s, loss=0.0449]\n"
          ]
        },
        {
          "output_type": "stream",
          "name": "stdout",
          "text": [
            "\n",
            " acc = 0.9643333333333334, loss = 0.0004367838588853677\n"
          ]
        },
        {
          "output_type": "stream",
          "name": "stderr",
          "text": [
            "Validation 20/30: 100%|██████████| 36/36 [00:05<00:00,  6.20it/s, loss=0.0686]\n"
          ]
        },
        {
          "output_type": "stream",
          "name": "stdout",
          "text": [
            "\n",
            " acc = 0.9696666666666667, loss = 0.0004221563446852896\n"
          ]
        },
        {
          "output_type": "stream",
          "name": "stderr",
          "text": [
            "Training 21/30: 100%|██████████| 200/200 [00:38<00:00,  5.17it/s, loss=0.208]\n"
          ]
        },
        {
          "output_type": "stream",
          "name": "stdout",
          "text": [
            "\n",
            " acc = 0.9650588235294117, loss = 0.0004318152788076915\n"
          ]
        },
        {
          "output_type": "stream",
          "name": "stderr",
          "text": [
            "Validation 21/30: 100%|██████████| 36/36 [00:05<00:00,  6.35it/s, loss=0.154]\n"
          ]
        },
        {
          "output_type": "stream",
          "name": "stdout",
          "text": [
            "\n",
            " acc = 0.9671111111111111, loss = 0.00045407174569037225\n"
          ]
        },
        {
          "output_type": "stream",
          "name": "stderr",
          "text": [
            "Training 22/30: 100%|██████████| 200/200 [00:38<00:00,  5.23it/s, loss=0.0698]\n"
          ]
        },
        {
          "output_type": "stream",
          "name": "stdout",
          "text": [
            "\n",
            " acc = 0.9654705882352941, loss = 0.0004299323623086892\n"
          ]
        },
        {
          "output_type": "stream",
          "name": "stderr",
          "text": [
            "Validation 22/30: 100%|██████████| 36/36 [00:05<00:00,  6.49it/s, loss=0.202]\n"
          ]
        },
        {
          "output_type": "stream",
          "name": "stdout",
          "text": [
            "\n",
            " acc = 0.9691111111111111, loss = 0.0004117301214072439\n"
          ]
        },
        {
          "output_type": "stream",
          "name": "stderr",
          "text": [
            "Training 23/30: 100%|██████████| 200/200 [00:37<00:00,  5.27it/s, loss=0.0485]\n"
          ]
        },
        {
          "output_type": "stream",
          "name": "stdout",
          "text": [
            "\n",
            " acc = 0.9669411764705882, loss = 0.00041021511382332036\n"
          ]
        },
        {
          "output_type": "stream",
          "name": "stderr",
          "text": [
            "Validation 23/30: 100%|██████████| 36/36 [00:05<00:00,  6.48it/s, loss=0.391]\n"
          ]
        },
        {
          "output_type": "stream",
          "name": "stdout",
          "text": [
            "\n",
            " acc = 0.9685555555555555, loss = 0.0004196300192011727\n"
          ]
        },
        {
          "output_type": "stream",
          "name": "stderr",
          "text": [
            "Training 24/30: 100%|██████████| 200/200 [00:38<00:00,  5.18it/s, loss=0.164]\n"
          ]
        },
        {
          "output_type": "stream",
          "name": "stdout",
          "text": [
            "\n",
            " acc = 0.9674901960784313, loss = 0.00041075744852423667\n"
          ]
        },
        {
          "output_type": "stream",
          "name": "stderr",
          "text": [
            "Validation 24/30: 100%|██████████| 36/36 [00:05<00:00,  6.24it/s, loss=0.0394]\n"
          ]
        },
        {
          "output_type": "stream",
          "name": "stdout",
          "text": [
            "\n",
            " acc = 0.967, loss = 0.000433364433546861\n"
          ]
        },
        {
          "output_type": "stream",
          "name": "stderr",
          "text": [
            "Training 25/30: 100%|██████████| 200/200 [00:39<00:00,  5.12it/s, loss=0.0873]\n"
          ]
        },
        {
          "output_type": "stream",
          "name": "stdout",
          "text": [
            "\n",
            " acc = 0.9655294117647059, loss = 0.00043207259118264795\n"
          ]
        },
        {
          "output_type": "stream",
          "name": "stderr",
          "text": [
            "Validation 25/30: 100%|██████████| 36/36 [00:05<00:00,  6.33it/s, loss=0.228]\n"
          ]
        },
        {
          "output_type": "stream",
          "name": "stdout",
          "text": [
            "\n",
            " acc = 0.964, loss = 0.0004859219826757908\n"
          ]
        },
        {
          "output_type": "stream",
          "name": "stderr",
          "text": [
            "Training 26/30: 100%|██████████| 200/200 [00:38<00:00,  5.22it/s, loss=0.0401]\n"
          ]
        },
        {
          "output_type": "stream",
          "name": "stdout",
          "text": [
            "\n",
            " acc = 0.969156862745098, loss = 0.00038102624397359645\n"
          ]
        },
        {
          "output_type": "stream",
          "name": "stderr",
          "text": [
            "Validation 26/30: 100%|██████████| 36/36 [00:05<00:00,  6.32it/s, loss=0.0137]\n"
          ]
        },
        {
          "output_type": "stream",
          "name": "stdout",
          "text": [
            "\n",
            " acc = 0.9648888888888889, loss = 0.0004518555589020252\n"
          ]
        },
        {
          "output_type": "stream",
          "name": "stderr",
          "text": [
            "Training 27/30: 100%|██████████| 200/200 [00:38<00:00,  5.14it/s, loss=0.255]\n"
          ]
        },
        {
          "output_type": "stream",
          "name": "stdout",
          "text": [
            "\n",
            " acc = 0.9695294117647059, loss = 0.0003788311123555782\n"
          ]
        },
        {
          "output_type": "stream",
          "name": "stderr",
          "text": [
            "Validation 27/30: 100%|██████████| 36/36 [00:05<00:00,  6.30it/s, loss=0.236]\n"
          ]
        },
        {
          "output_type": "stream",
          "name": "stdout",
          "text": [
            "\n",
            " acc = 0.9705555555555555, loss = 0.0003970576971769333\n"
          ]
        },
        {
          "output_type": "stream",
          "name": "stderr",
          "text": [
            "Training 28/30: 100%|██████████| 200/200 [00:38<00:00,  5.23it/s, loss=0.11]\n"
          ]
        },
        {
          "output_type": "stream",
          "name": "stdout",
          "text": [
            "\n",
            " acc = 0.9680196078431372, loss = 0.00038931183933335194\n"
          ]
        },
        {
          "output_type": "stream",
          "name": "stderr",
          "text": [
            "Validation 28/30: 100%|██████████| 36/36 [00:05<00:00,  6.54it/s, loss=0.0958]\n"
          ]
        },
        {
          "output_type": "stream",
          "name": "stdout",
          "text": [
            "\n",
            " acc = 0.9657777777777777, loss = 0.0004357733544376161\n"
          ]
        },
        {
          "output_type": "stream",
          "name": "stderr",
          "text": [
            "Training 29/30: 100%|██████████| 200/200 [00:38<00:00,  5.25it/s, loss=0.0818]\n"
          ]
        },
        {
          "output_type": "stream",
          "name": "stdout",
          "text": [
            "\n",
            " acc = 0.968843137254902, loss = 0.00038841405762907335\n"
          ]
        },
        {
          "output_type": "stream",
          "name": "stderr",
          "text": [
            "Validation 29/30: 100%|██████████| 36/36 [00:05<00:00,  6.39it/s, loss=0.0324]\n"
          ]
        },
        {
          "output_type": "stream",
          "name": "stdout",
          "text": [
            "\n",
            " acc = 0.9731111111111111, loss = 0.00033492723521259094\n"
          ]
        },
        {
          "output_type": "stream",
          "name": "stderr",
          "text": [
            "Training 30/30: 100%|██████████| 200/200 [00:37<00:00,  5.28it/s, loss=0.107]\n"
          ]
        },
        {
          "output_type": "stream",
          "name": "stdout",
          "text": [
            "\n",
            " acc = 0.97, loss = 0.0003696691221831476\n"
          ]
        },
        {
          "output_type": "stream",
          "name": "stderr",
          "text": [
            "Validation 30/30: 100%|██████████| 36/36 [00:05<00:00,  6.38it/s, loss=0.225]"
          ]
        },
        {
          "output_type": "stream",
          "name": "stdout",
          "text": [
            "\n",
            " acc = 0.9676666666666667, loss = 0.00042778642061683865\n"
          ]
        },
        {
          "output_type": "stream",
          "name": "stderr",
          "text": [
            "\n"
          ]
        }
      ]
    },
    {
      "cell_type": "code",
      "source": [
        "ax = plt.figure()\n",
        "plt.plot(np.array(train_loss),'r',label=\"train\")\n",
        "plt.plot(np.array(val_loss),'g',label=\"validation\")\n",
        "plt.xlabel(\"epochs\")\n",
        "plt.ylabel(\"loss\")\n",
        "plt.legend()\n",
        "\n"
      ],
      "metadata": {
        "id": "sbzjRFQ281Iq",
        "colab": {
          "base_uri": "https://localhost:8080/",
          "height": 296
        },
        "outputId": "e8de8880-fd89-4037-cf69-9219bf442737"
      },
      "execution_count": null,
      "outputs": [
        {
          "output_type": "execute_result",
          "data": {
            "text/plain": [
              "<matplotlib.legend.Legend at 0x7f10e84f16d0>"
            ]
          },
          "metadata": {},
          "execution_count": 12
        },
        {
          "output_type": "display_data",
          "data": {
            "text/plain": [
              "<Figure size 432x288 with 1 Axes>"
            ],
            "image/png": "[encoded data removed]"
          },
          "metadata": {
            "needs_background": "light"
          }
        }
      ]
    },
    {
      "cell_type": "code",
      "source": [
        "plt.plot(np.array(train_accuracy),'r',label=\"train\")\n",
        "plt.plot(np.array(val_accuracy),'g',label=\"validation\")\n",
        "plt.xlabel(\"epochs\")\n",
        "plt.ylabel(\"accuracy\")\n",
        "plt.legend()"
      ],
      "metadata": {
        "id": "BpllIjEhTlJ7",
        "colab": {
          "base_uri": "https://localhost:8080/",
          "height": 300
        },
        "outputId": "1eb13cfa-77dc-4d70-e389-5375998cb0a4"
      },
      "execution_count": null,
      "outputs": [
        {
          "output_type": "execute_result",
          "data": {
            "text/plain": [
              "<matplotlib.legend.Legend at 0x7f10e84f1b50>"
            ]
          },
          "metadata": {},
          "execution_count": 13
        },
        {
          "output_type": "display_data",
          "data": {
            "text/plain": [
              "<Figure size 432x288 with 1 Axes>"
            ],
            "image/png": "[encoded data removed]"
          },
          "metadata": {
            "needs_background": "light"
          }
        }
      ]
    },
    {
      "cell_type": "code",
      "source": [
        "\n",
        "def test(test_loader,loss_func,batch_size,net):\n",
        "  loader=tqdm(test_loader)\n",
        "  ep_acc = 0\n",
        "  accuracy = 0\n",
        "  ep_loss = 0\n",
        "  loss = 0\n",
        "  n_dp=0\n",
        "  correct = 0\n",
        "  with torch.no_grad():  \n",
        "    for batch, (imgs1,labels) in enumerate(loader):\n",
        "\n",
        "      imgs1=imgs1.to(device)\n",
        "      # imgs2=imgs2.to(device='cpu')\n",
        "\n",
        "      labels=labels.to(device)\n",
        "\n",
        "      pred = net.forward(imgs1)\n",
        "      pred = torch.squeeze(pred)\n",
        "      ep_loss += loss_func(pred,labels)\n",
        "      correct += ((pred.detach().argmax(1).to(device='cpu').numpy() == labels.to(device='cpu').numpy()).sum())\n",
        "      n_dp+=labels.size(0)\n",
        "\n",
        "  # print(f\"Accuracy: {accuracy/n_dp}, Loss: {loss/n_dp}\")\n",
        "\n",
        "  return correct/n_dp, ep_loss/n_dp\n",
        "# net.to(device=device)\n",
        "a,l = test(test_loader,criterion,256,cnn)\n",
        "\n",
        "print(l.item())\n",
        "print(a)"
      ],
      "metadata": {
        "colab": {
          "base_uri": "https://localhost:8080/"
        },
        "id": "_bnmolU3Qgdu",
        "outputId": "fc75cb52-c2e0-4836-ca0f-d3ca70aed9c2"
      },
      "execution_count": null,
      "outputs": [
        {
          "output_type": "stream",
          "name": "stderr",
          "text": [
            "100%|██████████| 40/40 [00:07<00:00,  5.51it/s]"
          ]
        },
        {
          "output_type": "stream",
          "name": "stdout",
          "text": [
            "0.00037956846063025296\n",
            "0.9732\n"
          ]
        },
        {
          "output_type": "stream",
          "name": "stderr",
          "text": [
            "\n"
          ]
        }
      ]
    }
  ]
}